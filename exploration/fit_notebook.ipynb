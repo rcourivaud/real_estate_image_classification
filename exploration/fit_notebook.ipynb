{
 "cells": [
  {
   "cell_type": "code",
   "execution_count": 8,
   "metadata": {},
   "outputs": [],
   "source": [
    "from sagemaker.pytorch import PyTorch\n",
    "\n",
    "import os\n",
    "import subprocess\n",
    "import sagemaker"
   ]
  },
  {
   "cell_type": "code",
   "execution_count": 9,
   "metadata": {},
   "outputs": [],
   "source": [
    "sagemaker_session = sagemaker.Session()\n",
    "sage_makerbucket = sagemaker_session.default_bucket()\n",
    "role = sagemaker.get_execution_role()"
   ]
  },
  {
   "cell_type": "code",
   "execution_count": 10,
   "metadata": {},
   "outputs": [
    {
     "name": "stdout",
     "output_type": "stream",
     "text": [
      "Instance type = local\n"
     ]
    }
   ],
   "source": [
    "\n",
    "instance_type = 'local'\n",
    "\n",
    "if subprocess.call('nvidia-smi') == 0:\n",
    "    ## Set type to GPU if one is present\n",
    "    instance_type = 'local_gpu'\n",
    "    \n",
    "print(\"Instance type = \" + instance_type)\n"
   ]
  },
  {
   "cell_type": "code",
   "execution_count": null,
   "metadata": {},
   "outputs": [],
   "source": [
    "#inputs = sagemaker_session.upload_data(path='data', bucket=bucket, key_prefix='data/cifar10')\n"
   ]
  },
  {
   "cell_type": "code",
   "execution_count": 21,
   "metadata": {},
   "outputs": [],
   "source": [
    "\n",
    "\n",
    "cifar10_estimator = PyTorch(entry_point='../script/real_estate_image_type/train.py',\n",
    "                            role=role,\n",
    "                            framework_version='1.0.0',\n",
    "                            train_instance_count=1,\n",
    "                            train_instance_type=instance_type)\n",
    "\n",
    "#cifar10_estimator.fit(inputs)"
   ]
  },
  {
   "cell_type": "code",
   "execution_count": 22,
   "metadata": {},
   "outputs": [
    {
     "name": "stdout",
     "output_type": "stream",
     "text": [
      "Creating tmp617kd085_algo-1-rfeny_1 ... \n",
      "\u001b[1BAttaching to tmp617kd085_algo-1-rfeny_1\n",
      "\u001b[36malgo-1-rfeny_1  |\u001b[0m 2019-06-07 13:36:36,148 sagemaker-containers INFO     Imported framework sagemaker_pytorch_container.training\n",
      "\u001b[36malgo-1-rfeny_1  |\u001b[0m 2019-06-07 13:36:36,152 sagemaker-containers INFO     No GPUs detected (normal if no gpus installed)\n",
      "\u001b[36malgo-1-rfeny_1  |\u001b[0m 2019-06-07 13:36:36,166 sagemaker_pytorch_container.training INFO     Block until all host DNS lookups succeed.\n",
      "\u001b[36malgo-1-rfeny_1  |\u001b[0m 2019-06-07 13:36:36,167 sagemaker_pytorch_container.training INFO     Invoking user training script.\n",
      "\u001b[36malgo-1-rfeny_1  |\u001b[0m 2019-06-07 13:36:36,341 sagemaker-containers INFO     Module train does not provide a setup.py. \n",
      "\u001b[36malgo-1-rfeny_1  |\u001b[0m Generating setup.py\n",
      "\u001b[36malgo-1-rfeny_1  |\u001b[0m 2019-06-07 13:36:36,341 sagemaker-containers INFO     Generating setup.cfg\n",
      "\u001b[36malgo-1-rfeny_1  |\u001b[0m 2019-06-07 13:36:36,341 sagemaker-containers INFO     Generating MANIFEST.in\n",
      "\u001b[36malgo-1-rfeny_1  |\u001b[0m 2019-06-07 13:36:36,341 sagemaker-containers INFO     Installing module with the following command:\n",
      "\u001b[36malgo-1-rfeny_1  |\u001b[0m /usr/bin/python -m pip install -U . \n",
      "\u001b[36malgo-1-rfeny_1  |\u001b[0m Processing /opt/ml/code\n",
      "\u001b[36malgo-1-rfeny_1  |\u001b[0m Building wheels for collected packages: train\n",
      "\u001b[36malgo-1-rfeny_1  |\u001b[0m   Running setup.py bdist_wheel for train ... \u001b[?25ldone\n",
      "\u001b[36malgo-1-rfeny_1  |\u001b[0m \u001b[?25h  Stored in directory: /tmp/pip-ephem-wheel-cache-ogjv5pqw/wheels/35/24/16/37574d11bf9bde50616c67372a334f94fa8356bc7164af8ca3\n",
      "\u001b[36malgo-1-rfeny_1  |\u001b[0m Successfully built train\n",
      "\u001b[36malgo-1-rfeny_1  |\u001b[0m Installing collected packages: train\n",
      "\u001b[36malgo-1-rfeny_1  |\u001b[0m Successfully installed train-1.0.0\n",
      "\u001b[36malgo-1-rfeny_1  |\u001b[0m \u001b[33mYou are using pip version 18.1, however version 19.1.1 is available.\n",
      "\u001b[36malgo-1-rfeny_1  |\u001b[0m You should consider upgrading via the 'pip install --upgrade pip' command.\u001b[0m\n",
      "\u001b[36malgo-1-rfeny_1  |\u001b[0m 2019-06-07 13:36:37,793 sagemaker-containers INFO     No GPUs detected (normal if no gpus installed)\n",
      "\u001b[36malgo-1-rfeny_1  |\u001b[0m 2019-06-07 13:36:37,807 sagemaker-containers INFO     Invoking user script\n",
      "\u001b[36malgo-1-rfeny_1  |\u001b[0m \n",
      "\u001b[36malgo-1-rfeny_1  |\u001b[0m Training Env:\n",
      "\u001b[36malgo-1-rfeny_1  |\u001b[0m \n",
      "\u001b[36malgo-1-rfeny_1  |\u001b[0m {\n",
      "\u001b[36malgo-1-rfeny_1  |\u001b[0m     \"additional_framework_parameters\": {},\n",
      "\u001b[36malgo-1-rfeny_1  |\u001b[0m     \"channel_input_dirs\": {},\n",
      "\u001b[36malgo-1-rfeny_1  |\u001b[0m     \"current_host\": \"algo-1-rfeny\",\n",
      "\u001b[36malgo-1-rfeny_1  |\u001b[0m     \"framework_module\": \"sagemaker_pytorch_container.training:main\",\n",
      "\u001b[36malgo-1-rfeny_1  |\u001b[0m     \"hosts\": [\n",
      "\u001b[36malgo-1-rfeny_1  |\u001b[0m         \"algo-1-rfeny\"\n",
      "\u001b[36malgo-1-rfeny_1  |\u001b[0m     ],\n",
      "\u001b[36malgo-1-rfeny_1  |\u001b[0m     \"hyperparameters\": {},\n",
      "\u001b[36malgo-1-rfeny_1  |\u001b[0m     \"input_config_dir\": \"/opt/ml/input/config\",\n",
      "\u001b[36malgo-1-rfeny_1  |\u001b[0m     \"input_data_config\": {},\n",
      "\u001b[36malgo-1-rfeny_1  |\u001b[0m     \"input_dir\": \"/opt/ml/input\",\n",
      "\u001b[36malgo-1-rfeny_1  |\u001b[0m     \"is_master\": true,\n",
      "\u001b[36malgo-1-rfeny_1  |\u001b[0m     \"job_name\": \"sagemaker-pytorch-2019-06-07-13-36-33-893\",\n",
      "\u001b[36malgo-1-rfeny_1  |\u001b[0m     \"log_level\": 20,\n",
      "\u001b[36malgo-1-rfeny_1  |\u001b[0m     \"master_hostname\": \"algo-1-rfeny\",\n",
      "\u001b[36malgo-1-rfeny_1  |\u001b[0m     \"model_dir\": \"/opt/ml/model\",\n",
      "\u001b[36malgo-1-rfeny_1  |\u001b[0m     \"module_dir\": \"s3://sagemaker-us-east-1-748385855076/sagemaker-pytorch-2019-06-07-13-36-33-893/source/sourcedir.tar.gz\",\n",
      "\u001b[36malgo-1-rfeny_1  |\u001b[0m     \"module_name\": \"train\",\n",
      "\u001b[36malgo-1-rfeny_1  |\u001b[0m     \"network_interface_name\": \"eth0\",\n",
      "\u001b[36malgo-1-rfeny_1  |\u001b[0m     \"num_cpus\": 2,\n",
      "\u001b[36malgo-1-rfeny_1  |\u001b[0m     \"num_gpus\": 0,\n",
      "\u001b[36malgo-1-rfeny_1  |\u001b[0m     \"output_data_dir\": \"/opt/ml/output/data\",\n",
      "\u001b[36malgo-1-rfeny_1  |\u001b[0m     \"output_dir\": \"/opt/ml/output\",\n",
      "\u001b[36malgo-1-rfeny_1  |\u001b[0m     \"output_intermediate_dir\": \"/opt/ml/output/intermediate\",\n",
      "\u001b[36malgo-1-rfeny_1  |\u001b[0m     \"resource_config\": {\n",
      "\u001b[36malgo-1-rfeny_1  |\u001b[0m         \"current_host\": \"algo-1-rfeny\",\n",
      "\u001b[36malgo-1-rfeny_1  |\u001b[0m         \"hosts\": [\n",
      "\u001b[36malgo-1-rfeny_1  |\u001b[0m             \"algo-1-rfeny\"\n",
      "\u001b[36malgo-1-rfeny_1  |\u001b[0m         ]\n",
      "\u001b[36malgo-1-rfeny_1  |\u001b[0m     },\n",
      "\u001b[36malgo-1-rfeny_1  |\u001b[0m     \"user_entry_point\": \"train.py\"\n",
      "\u001b[36malgo-1-rfeny_1  |\u001b[0m }\n",
      "\u001b[36malgo-1-rfeny_1  |\u001b[0m \n",
      "\u001b[36malgo-1-rfeny_1  |\u001b[0m Environment variables:\n",
      "\u001b[36malgo-1-rfeny_1  |\u001b[0m \n",
      "\u001b[36malgo-1-rfeny_1  |\u001b[0m SM_HOSTS=[\"algo-1-rfeny\"]\n",
      "\u001b[36malgo-1-rfeny_1  |\u001b[0m SM_NETWORK_INTERFACE_NAME=eth0\n",
      "\u001b[36malgo-1-rfeny_1  |\u001b[0m SM_HPS={}\n",
      "\u001b[36malgo-1-rfeny_1  |\u001b[0m SM_USER_ENTRY_POINT=train.py\n",
      "\u001b[36malgo-1-rfeny_1  |\u001b[0m SM_FRAMEWORK_PARAMS={}\n",
      "\u001b[36malgo-1-rfeny_1  |\u001b[0m SM_RESOURCE_CONFIG={\"current_host\":\"algo-1-rfeny\",\"hosts\":[\"algo-1-rfeny\"]}\n",
      "\u001b[36malgo-1-rfeny_1  |\u001b[0m SM_INPUT_DATA_CONFIG={}\n",
      "\u001b[36malgo-1-rfeny_1  |\u001b[0m SM_OUTPUT_DATA_DIR=/opt/ml/output/data\n",
      "\u001b[36malgo-1-rfeny_1  |\u001b[0m SM_CHANNELS=[]\n",
      "\u001b[36malgo-1-rfeny_1  |\u001b[0m SM_CURRENT_HOST=algo-1-rfeny\n",
      "\u001b[36malgo-1-rfeny_1  |\u001b[0m SM_MODULE_NAME=train\n",
      "\u001b[36malgo-1-rfeny_1  |\u001b[0m SM_LOG_LEVEL=20\n",
      "\u001b[36malgo-1-rfeny_1  |\u001b[0m SM_FRAMEWORK_MODULE=sagemaker_pytorch_container.training:main\n",
      "\u001b[36malgo-1-rfeny_1  |\u001b[0m SM_INPUT_DIR=/opt/ml/input\n",
      "\u001b[36malgo-1-rfeny_1  |\u001b[0m SM_INPUT_CONFIG_DIR=/opt/ml/input/config\n",
      "\u001b[36malgo-1-rfeny_1  |\u001b[0m SM_OUTPUT_DIR=/opt/ml/output\n",
      "\u001b[36malgo-1-rfeny_1  |\u001b[0m SM_NUM_CPUS=2\n",
      "\u001b[36malgo-1-rfeny_1  |\u001b[0m SM_NUM_GPUS=0\n",
      "\u001b[36malgo-1-rfeny_1  |\u001b[0m SM_MODEL_DIR=/opt/ml/model\n",
      "\u001b[36malgo-1-rfeny_1  |\u001b[0m SM_MODULE_DIR=s3://sagemaker-us-east-1-748385855076/sagemaker-pytorch-2019-06-07-13-36-33-893/source/sourcedir.tar.gz\n",
      "\u001b[36malgo-1-rfeny_1  |\u001b[0m SM_TRAINING_ENV={\"additional_framework_parameters\":{},\"channel_input_dirs\":{},\"current_host\":\"algo-1-rfeny\",\"framework_module\":\"sagemaker_pytorch_container.training:main\",\"hosts\":[\"algo-1-rfeny\"],\"hyperparameters\":{},\"input_config_dir\":\"/opt/ml/input/config\",\"input_data_config\":{},\"input_dir\":\"/opt/ml/input\",\"is_master\":true,\"job_name\":\"sagemaker-pytorch-2019-06-07-13-36-33-893\",\"log_level\":20,\"master_hostname\":\"algo-1-rfeny\",\"model_dir\":\"/opt/ml/model\",\"module_dir\":\"s3://sagemaker-us-east-1-748385855076/sagemaker-pytorch-2019-06-07-13-36-33-893/source/sourcedir.tar.gz\",\"module_name\":\"train\",\"network_interface_name\":\"eth0\",\"num_cpus\":2,\"num_gpus\":0,\"output_data_dir\":\"/opt/ml/output/data\",\"output_dir\":\"/opt/ml/output\",\"output_intermediate_dir\":\"/opt/ml/output/intermediate\",\"resource_config\":{\"current_host\":\"algo-1-rfeny\",\"hosts\":[\"algo-1-rfeny\"]},\"user_entry_point\":\"train.py\"}\n",
      "\u001b[36malgo-1-rfeny_1  |\u001b[0m SM_USER_ARGS=[]\n",
      "\u001b[36malgo-1-rfeny_1  |\u001b[0m SM_OUTPUT_INTERMEDIATE_DIR=/opt/ml/output/intermediate\n",
      "\u001b[36malgo-1-rfeny_1  |\u001b[0m PYTHONPATH=/usr/local/bin:/usr/lib/python36.zip:/usr/lib/python3.6:/usr/lib/python3.6/lib-dynload:/usr/local/lib/python3.6/dist-packages:/usr/lib/python3/dist-packages\n",
      "\u001b[36malgo-1-rfeny_1  |\u001b[0m \n",
      "\u001b[36malgo-1-rfeny_1  |\u001b[0m Invoking script with the following command:\n",
      "\u001b[36malgo-1-rfeny_1  |\u001b[0m \n",
      "\u001b[36malgo-1-rfeny_1  |\u001b[0m /usr/bin/python -m train\n",
      "\u001b[36malgo-1-rfeny_1  |\u001b[0m \n",
      "\u001b[36malgo-1-rfeny_1  |\u001b[0m \n",
      "\u001b[36malgo-1-rfeny_1  |\u001b[0m 2019-06-07 13:36:38,361 sagemaker-containers ERROR    ExecuteUserScriptError:\n",
      "\u001b[36malgo-1-rfeny_1  |\u001b[0m Command \"/usr/bin/python -m train\"\n",
      "\u001b[36malgo-1-rfeny_1  |\u001b[0m Traceback (most recent call last):\n",
      "\u001b[36malgo-1-rfeny_1  |\u001b[0m   File \"/usr/lib/python3.6/runpy.py\", line 193, in _run_module_as_main\n",
      "\u001b[36malgo-1-rfeny_1  |\u001b[0m     \"__main__\", mod_spec)\n",
      "\u001b[36malgo-1-rfeny_1  |\u001b[0m   File \"/usr/lib/python3.6/runpy.py\", line 85, in _run_code\n",
      "\u001b[36malgo-1-rfeny_1  |\u001b[0m     exec(code, run_globals)\n",
      "\u001b[36malgo-1-rfeny_1  |\u001b[0m   File \"/opt/ml/code/train.py\", line 185, in <module>\n",
      "\u001b[36malgo-1-rfeny_1  |\u001b[0m     _train(parser.parse_args())\n",
      "\u001b[36malgo-1-rfeny_1  |\u001b[0m   File \"/opt/ml/code/train.py\", line 123, in _train\n",
      "\u001b[36malgo-1-rfeny_1  |\u001b[0m     train_set = datasets.ImageFolder(\"s3://lbc-ft-reco//data/real-estate/train\", transform = transformations )\n",
      "\u001b[36malgo-1-rfeny_1  |\u001b[0m   File \"/usr/local/lib/python3.6/dist-packages/torchvision/datasets/folder.py\", line 178, in __init__\n",
      "\u001b[36malgo-1-rfeny_1  |\u001b[0m     target_transform=target_transform)\n",
      "\u001b[36malgo-1-rfeny_1  |\u001b[0m   File \"/usr/local/lib/python3.6/dist-packages/torchvision/datasets/folder.py\", line 75, in __init__\n",
      "\u001b[36malgo-1-rfeny_1  |\u001b[0m     classes, class_to_idx = find_classes(root)\n",
      "\u001b[36malgo-1-rfeny_1  |\u001b[0m   File \"/usr/local/lib/python3.6/dist-packages/torchvision/datasets/folder.py\", line 23, in find_classes\n",
      "\u001b[36malgo-1-rfeny_1  |\u001b[0m     classes = [d for d in os.listdir(dir) if os.path.isdir(os.path.join(dir, d))]\n",
      "\u001b[36malgo-1-rfeny_1  |\u001b[0m FileNotFoundError: [Errno 2] No such file or directory: 's3://lbc-ft-reco//data/real-estate/train'\n",
      "\u001b[36mtmp617kd085_algo-1-rfeny_1 exited with code 1\n",
      "\u001b[0mAborting on container exit...\n"
     ]
    },
    {
     "ename": "RuntimeError",
     "evalue": "Failed to run: ['docker-compose', '-f', '/tmp/tmp617kd085/docker-compose.yaml', 'up', '--build', '--abort-on-container-exit'], Process exited with code: 1",
     "output_type": "error",
     "traceback": [
      "\u001b[0;31m---------------------------------------------------------------------------\u001b[0m",
      "\u001b[0;31mRuntimeError\u001b[0m                              Traceback (most recent call last)",
      "\u001b[0;32m~/anaconda3/envs/pytorch_p36/lib/python3.6/site-packages/sagemaker/local/image.py\u001b[0m in \u001b[0;36mtrain\u001b[0;34m(self, input_data_config, output_data_config, hyperparameters, job_name)\u001b[0m\n\u001b[1;32m    132\u001b[0m         \u001b[0;32mtry\u001b[0m\u001b[0;34m:\u001b[0m\u001b[0;34m\u001b[0m\u001b[0m\n\u001b[0;32m--> 133\u001b[0;31m             \u001b[0m_stream_output\u001b[0m\u001b[0;34m(\u001b[0m\u001b[0mprocess\u001b[0m\u001b[0;34m)\u001b[0m\u001b[0;34m\u001b[0m\u001b[0m\n\u001b[0m\u001b[1;32m    134\u001b[0m         \u001b[0;32mexcept\u001b[0m \u001b[0mRuntimeError\u001b[0m \u001b[0;32mas\u001b[0m \u001b[0me\u001b[0m\u001b[0;34m:\u001b[0m\u001b[0;34m\u001b[0m\u001b[0m\n",
      "\u001b[0;32m~/anaconda3/envs/pytorch_p36/lib/python3.6/site-packages/sagemaker/local/image.py\u001b[0m in \u001b[0;36m_stream_output\u001b[0;34m(process)\u001b[0m\n\u001b[1;32m    593\u001b[0m     \u001b[0;32mif\u001b[0m \u001b[0mexit_code\u001b[0m \u001b[0;34m!=\u001b[0m \u001b[0;36m0\u001b[0m\u001b[0;34m:\u001b[0m\u001b[0;34m\u001b[0m\u001b[0m\n\u001b[0;32m--> 594\u001b[0;31m         \u001b[0;32mraise\u001b[0m \u001b[0mRuntimeError\u001b[0m\u001b[0;34m(\u001b[0m\u001b[0;34m\"Process exited with code: %s\"\u001b[0m \u001b[0;34m%\u001b[0m \u001b[0mexit_code\u001b[0m\u001b[0;34m)\u001b[0m\u001b[0;34m\u001b[0m\u001b[0m\n\u001b[0m\u001b[1;32m    595\u001b[0m \u001b[0;34m\u001b[0m\u001b[0m\n",
      "\u001b[0;31mRuntimeError\u001b[0m: Process exited with code: 1",
      "\nDuring handling of the above exception, another exception occurred:\n",
      "\u001b[0;31mRuntimeError\u001b[0m                              Traceback (most recent call last)",
      "\u001b[0;32m<ipython-input-22-add25686d48f>\u001b[0m in \u001b[0;36m<module>\u001b[0;34m()\u001b[0m\n\u001b[0;32m----> 1\u001b[0;31m \u001b[0mcifar10_estimator\u001b[0m\u001b[0;34m.\u001b[0m\u001b[0mfit\u001b[0m\u001b[0;34m(\u001b[0m\u001b[0;34m)\u001b[0m\u001b[0;34m\u001b[0m\u001b[0m\n\u001b[0m",
      "\u001b[0;32m~/anaconda3/envs/pytorch_p36/lib/python3.6/site-packages/sagemaker/estimator.py\u001b[0m in \u001b[0;36mfit\u001b[0;34m(self, inputs, wait, logs, job_name)\u001b[0m\n\u001b[1;32m    232\u001b[0m         \u001b[0mself\u001b[0m\u001b[0;34m.\u001b[0m\u001b[0m_prepare_for_training\u001b[0m\u001b[0;34m(\u001b[0m\u001b[0mjob_name\u001b[0m\u001b[0;34m=\u001b[0m\u001b[0mjob_name\u001b[0m\u001b[0;34m)\u001b[0m\u001b[0;34m\u001b[0m\u001b[0m\n\u001b[1;32m    233\u001b[0m \u001b[0;34m\u001b[0m\u001b[0m\n\u001b[0;32m--> 234\u001b[0;31m         \u001b[0mself\u001b[0m\u001b[0;34m.\u001b[0m\u001b[0mlatest_training_job\u001b[0m \u001b[0;34m=\u001b[0m \u001b[0m_TrainingJob\u001b[0m\u001b[0;34m.\u001b[0m\u001b[0mstart_new\u001b[0m\u001b[0;34m(\u001b[0m\u001b[0mself\u001b[0m\u001b[0;34m,\u001b[0m \u001b[0minputs\u001b[0m\u001b[0;34m)\u001b[0m\u001b[0;34m\u001b[0m\u001b[0m\n\u001b[0m\u001b[1;32m    235\u001b[0m         \u001b[0;32mif\u001b[0m \u001b[0mwait\u001b[0m\u001b[0;34m:\u001b[0m\u001b[0;34m\u001b[0m\u001b[0m\n\u001b[1;32m    236\u001b[0m             \u001b[0mself\u001b[0m\u001b[0;34m.\u001b[0m\u001b[0mlatest_training_job\u001b[0m\u001b[0;34m.\u001b[0m\u001b[0mwait\u001b[0m\u001b[0;34m(\u001b[0m\u001b[0mlogs\u001b[0m\u001b[0;34m=\u001b[0m\u001b[0mlogs\u001b[0m\u001b[0;34m)\u001b[0m\u001b[0;34m\u001b[0m\u001b[0m\n",
      "\u001b[0;32m~/anaconda3/envs/pytorch_p36/lib/python3.6/site-packages/sagemaker/estimator.py\u001b[0m in \u001b[0;36mstart_new\u001b[0;34m(cls, estimator, inputs)\u001b[0m\n\u001b[1;32m    590\u001b[0m             \u001b[0mtrain_args\u001b[0m\u001b[0;34m[\u001b[0m\u001b[0;34m'image'\u001b[0m\u001b[0;34m]\u001b[0m \u001b[0;34m=\u001b[0m \u001b[0mestimator\u001b[0m\u001b[0;34m.\u001b[0m\u001b[0mtrain_image\u001b[0m\u001b[0;34m(\u001b[0m\u001b[0;34m)\u001b[0m\u001b[0;34m\u001b[0m\u001b[0m\n\u001b[1;32m    591\u001b[0m \u001b[0;34m\u001b[0m\u001b[0m\n\u001b[0;32m--> 592\u001b[0;31m         \u001b[0mestimator\u001b[0m\u001b[0;34m.\u001b[0m\u001b[0msagemaker_session\u001b[0m\u001b[0;34m.\u001b[0m\u001b[0mtrain\u001b[0m\u001b[0;34m(\u001b[0m\u001b[0;34m**\u001b[0m\u001b[0mtrain_args\u001b[0m\u001b[0;34m)\u001b[0m\u001b[0;34m\u001b[0m\u001b[0m\n\u001b[0m\u001b[1;32m    593\u001b[0m \u001b[0;34m\u001b[0m\u001b[0m\n\u001b[1;32m    594\u001b[0m         \u001b[0;32mreturn\u001b[0m \u001b[0mcls\u001b[0m\u001b[0;34m(\u001b[0m\u001b[0mestimator\u001b[0m\u001b[0;34m.\u001b[0m\u001b[0msagemaker_session\u001b[0m\u001b[0;34m,\u001b[0m \u001b[0mestimator\u001b[0m\u001b[0;34m.\u001b[0m\u001b[0m_current_job_name\u001b[0m\u001b[0;34m)\u001b[0m\u001b[0;34m\u001b[0m\u001b[0m\n",
      "\u001b[0;32m~/anaconda3/envs/pytorch_p36/lib/python3.6/site-packages/sagemaker/session.py\u001b[0m in \u001b[0;36mtrain\u001b[0;34m(self, input_mode, input_config, role, job_name, output_config, resource_config, vpc_config, hyperparameters, stop_condition, tags, metric_definitions, enable_network_isolation, image, algorithm_arn, encrypt_inter_container_traffic)\u001b[0m\n\u001b[1;32m    315\u001b[0m         \u001b[0mLOGGER\u001b[0m\u001b[0;34m.\u001b[0m\u001b[0minfo\u001b[0m\u001b[0;34m(\u001b[0m\u001b[0;34m'Creating training-job with name: {}'\u001b[0m\u001b[0;34m.\u001b[0m\u001b[0mformat\u001b[0m\u001b[0;34m(\u001b[0m\u001b[0mjob_name\u001b[0m\u001b[0;34m)\u001b[0m\u001b[0;34m)\u001b[0m\u001b[0;34m\u001b[0m\u001b[0m\n\u001b[1;32m    316\u001b[0m         \u001b[0mLOGGER\u001b[0m\u001b[0;34m.\u001b[0m\u001b[0mdebug\u001b[0m\u001b[0;34m(\u001b[0m\u001b[0;34m'train request: {}'\u001b[0m\u001b[0;34m.\u001b[0m\u001b[0mformat\u001b[0m\u001b[0;34m(\u001b[0m\u001b[0mjson\u001b[0m\u001b[0;34m.\u001b[0m\u001b[0mdumps\u001b[0m\u001b[0;34m(\u001b[0m\u001b[0mtrain_request\u001b[0m\u001b[0;34m,\u001b[0m \u001b[0mindent\u001b[0m\u001b[0;34m=\u001b[0m\u001b[0;36m4\u001b[0m\u001b[0;34m)\u001b[0m\u001b[0;34m)\u001b[0m\u001b[0;34m)\u001b[0m\u001b[0;34m\u001b[0m\u001b[0m\n\u001b[0;32m--> 317\u001b[0;31m         \u001b[0mself\u001b[0m\u001b[0;34m.\u001b[0m\u001b[0msagemaker_client\u001b[0m\u001b[0;34m.\u001b[0m\u001b[0mcreate_training_job\u001b[0m\u001b[0;34m(\u001b[0m\u001b[0;34m**\u001b[0m\u001b[0mtrain_request\u001b[0m\u001b[0;34m)\u001b[0m\u001b[0;34m\u001b[0m\u001b[0m\n\u001b[0m\u001b[1;32m    318\u001b[0m \u001b[0;34m\u001b[0m\u001b[0m\n\u001b[1;32m    319\u001b[0m     def compile_model(self, input_model_config, output_model_config, role,\n",
      "\u001b[0;32m~/anaconda3/envs/pytorch_p36/lib/python3.6/site-packages/sagemaker/local/local_session.py\u001b[0m in \u001b[0;36mcreate_training_job\u001b[0;34m(self, TrainingJobName, AlgorithmSpecification, OutputDataConfig, ResourceConfig, InputDataConfig, **kwargs)\u001b[0m\n\u001b[1;32m     71\u001b[0m         \u001b[0mtraining_job\u001b[0m \u001b[0;34m=\u001b[0m \u001b[0m_LocalTrainingJob\u001b[0m\u001b[0;34m(\u001b[0m\u001b[0mcontainer\u001b[0m\u001b[0;34m)\u001b[0m\u001b[0;34m\u001b[0m\u001b[0m\n\u001b[1;32m     72\u001b[0m         \u001b[0mhyperparameters\u001b[0m \u001b[0;34m=\u001b[0m \u001b[0mkwargs\u001b[0m\u001b[0;34m[\u001b[0m\u001b[0;34m'HyperParameters'\u001b[0m\u001b[0;34m]\u001b[0m \u001b[0;32mif\u001b[0m \u001b[0;34m'HyperParameters'\u001b[0m \u001b[0;32min\u001b[0m \u001b[0mkwargs\u001b[0m \u001b[0;32melse\u001b[0m \u001b[0;34m{\u001b[0m\u001b[0;34m}\u001b[0m\u001b[0;34m\u001b[0m\u001b[0m\n\u001b[0;32m---> 73\u001b[0;31m         \u001b[0mtraining_job\u001b[0m\u001b[0;34m.\u001b[0m\u001b[0mstart\u001b[0m\u001b[0;34m(\u001b[0m\u001b[0mInputDataConfig\u001b[0m\u001b[0;34m,\u001b[0m \u001b[0mOutputDataConfig\u001b[0m\u001b[0;34m,\u001b[0m \u001b[0mhyperparameters\u001b[0m\u001b[0;34m,\u001b[0m \u001b[0mTrainingJobName\u001b[0m\u001b[0;34m)\u001b[0m\u001b[0;34m\u001b[0m\u001b[0m\n\u001b[0m\u001b[1;32m     74\u001b[0m \u001b[0;34m\u001b[0m\u001b[0m\n\u001b[1;32m     75\u001b[0m         \u001b[0mLocalSagemakerClient\u001b[0m\u001b[0;34m.\u001b[0m\u001b[0m_training_jobs\u001b[0m\u001b[0;34m[\u001b[0m\u001b[0mTrainingJobName\u001b[0m\u001b[0;34m]\u001b[0m \u001b[0;34m=\u001b[0m \u001b[0mtraining_job\u001b[0m\u001b[0;34m\u001b[0m\u001b[0m\n",
      "\u001b[0;32m~/anaconda3/envs/pytorch_p36/lib/python3.6/site-packages/sagemaker/local/entities.py\u001b[0m in \u001b[0;36mstart\u001b[0;34m(self, input_data_config, output_data_config, hyperparameters, job_name)\u001b[0m\n\u001b[1;32m     67\u001b[0m         \u001b[0mself\u001b[0m\u001b[0;34m.\u001b[0m\u001b[0mstate\u001b[0m \u001b[0;34m=\u001b[0m \u001b[0mself\u001b[0m\u001b[0;34m.\u001b[0m\u001b[0m_TRAINING\u001b[0m\u001b[0;34m\u001b[0m\u001b[0m\n\u001b[1;32m     68\u001b[0m \u001b[0;34m\u001b[0m\u001b[0m\n\u001b[0;32m---> 69\u001b[0;31m         \u001b[0mself\u001b[0m\u001b[0;34m.\u001b[0m\u001b[0mmodel_artifacts\u001b[0m \u001b[0;34m=\u001b[0m \u001b[0mself\u001b[0m\u001b[0;34m.\u001b[0m\u001b[0mcontainer\u001b[0m\u001b[0;34m.\u001b[0m\u001b[0mtrain\u001b[0m\u001b[0;34m(\u001b[0m\u001b[0minput_data_config\u001b[0m\u001b[0;34m,\u001b[0m \u001b[0moutput_data_config\u001b[0m\u001b[0;34m,\u001b[0m \u001b[0mhyperparameters\u001b[0m\u001b[0;34m,\u001b[0m \u001b[0mjob_name\u001b[0m\u001b[0;34m)\u001b[0m\u001b[0;34m\u001b[0m\u001b[0m\n\u001b[0m\u001b[1;32m     70\u001b[0m         \u001b[0mself\u001b[0m\u001b[0;34m.\u001b[0m\u001b[0mend\u001b[0m \u001b[0;34m=\u001b[0m \u001b[0mdatetime\u001b[0m\u001b[0;34m.\u001b[0m\u001b[0mdatetime\u001b[0m\u001b[0;34m.\u001b[0m\u001b[0mnow\u001b[0m\u001b[0;34m(\u001b[0m\u001b[0;34m)\u001b[0m\u001b[0;34m\u001b[0m\u001b[0m\n\u001b[1;32m     71\u001b[0m         \u001b[0mself\u001b[0m\u001b[0;34m.\u001b[0m\u001b[0mstate\u001b[0m \u001b[0;34m=\u001b[0m \u001b[0mself\u001b[0m\u001b[0;34m.\u001b[0m\u001b[0m_COMPLETED\u001b[0m\u001b[0;34m\u001b[0m\u001b[0m\n",
      "\u001b[0;32m~/anaconda3/envs/pytorch_p36/lib/python3.6/site-packages/sagemaker/local/image.py\u001b[0m in \u001b[0;36mtrain\u001b[0;34m(self, input_data_config, output_data_config, hyperparameters, job_name)\u001b[0m\n\u001b[1;32m    136\u001b[0m             \u001b[0;31m# which contains the exit code and append the command line to it.\u001b[0m\u001b[0;34m\u001b[0m\u001b[0;34m\u001b[0m\u001b[0m\n\u001b[1;32m    137\u001b[0m             \u001b[0mmsg\u001b[0m \u001b[0;34m=\u001b[0m \u001b[0;34m\"Failed to run: %s, %s\"\u001b[0m \u001b[0;34m%\u001b[0m \u001b[0;34m(\u001b[0m\u001b[0mcompose_command\u001b[0m\u001b[0;34m,\u001b[0m \u001b[0mstr\u001b[0m\u001b[0;34m(\u001b[0m\u001b[0me\u001b[0m\u001b[0;34m)\u001b[0m\u001b[0;34m)\u001b[0m\u001b[0;34m\u001b[0m\u001b[0m\n\u001b[0;32m--> 138\u001b[0;31m             \u001b[0;32mraise\u001b[0m \u001b[0mRuntimeError\u001b[0m\u001b[0;34m(\u001b[0m\u001b[0mmsg\u001b[0m\u001b[0;34m)\u001b[0m\u001b[0;34m\u001b[0m\u001b[0m\n\u001b[0m\u001b[1;32m    139\u001b[0m         \u001b[0;32mfinally\u001b[0m\u001b[0;34m:\u001b[0m\u001b[0;34m\u001b[0m\u001b[0m\n\u001b[1;32m    140\u001b[0m             \u001b[0martifacts\u001b[0m \u001b[0;34m=\u001b[0m \u001b[0mself\u001b[0m\u001b[0;34m.\u001b[0m\u001b[0mretrieve_artifacts\u001b[0m\u001b[0;34m(\u001b[0m\u001b[0mcompose_data\u001b[0m\u001b[0;34m,\u001b[0m \u001b[0moutput_data_config\u001b[0m\u001b[0;34m,\u001b[0m \u001b[0mjob_name\u001b[0m\u001b[0;34m)\u001b[0m\u001b[0;34m\u001b[0m\u001b[0m\n",
      "\u001b[0;31mRuntimeError\u001b[0m: Failed to run: ['docker-compose', '-f', '/tmp/tmp617kd085/docker-compose.yaml', 'up', '--build', '--abort-on-container-exit'], Process exited with code: 1"
     ]
    }
   ],
   "source": [
    "cifar10_estimator.fit()"
   ]
  },
  {
   "cell_type": "code",
   "execution_count": null,
   "metadata": {},
   "outputs": [],
   "source": []
  }
 ],
 "metadata": {
  "kernelspec": {
   "display_name": "conda_pytorch_p36",
   "language": "python",
   "name": "conda_pytorch_p36"
  },
  "language_info": {
   "codemirror_mode": {
    "name": "ipython",
    "version": 3
   },
   "file_extension": ".py",
   "mimetype": "text/x-python",
   "name": "python",
   "nbconvert_exporter": "python",
   "pygments_lexer": "ipython3",
   "version": "3.6.5"
  }
 },
 "nbformat": 4,
 "nbformat_minor": 2
}
