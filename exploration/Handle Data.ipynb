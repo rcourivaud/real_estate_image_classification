{
 "cells": [
  {
   "cell_type": "code",
   "execution_count": 38,
   "metadata": {},
   "outputs": [],
   "source": [
    "import glob \n",
    "import boto3\n",
    "from tqdm import tqdm_notebook\n",
    "import random \n",
    "client = boto3.client('s3', region_name='eu-west-1')"
   ]
  },
  {
   "cell_type": "code",
   "execution_count": 39,
   "metadata": {},
   "outputs": [],
   "source": [
    "files = glob.glob(\"./data/parsed/*/*/*\")\n",
    "random.shuffle(files)"
   ]
  },
  {
   "cell_type": "code",
   "execution_count": 40,
   "metadata": {},
   "outputs": [
    {
     "data": {
      "text/plain": [
       "Counter({'bed_room': 100000,\n",
       "         'kitchen': 100000,\n",
       "         'outdoor': 100000,\n",
       "         'living_room': 100000,\n",
       "         'dining_room': 100000})"
      ]
     },
     "execution_count": 40,
     "metadata": {},
     "output_type": "execute_result"
    }
   ],
   "source": [
    "from collections import Counter \n",
    "\n",
    "Counter([file.split(\"/\")[4] for file in files])"
   ]
  },
  {
   "cell_type": "code",
   "execution_count": 41,
   "metadata": {},
   "outputs": [],
   "source": [
    "def upload_image(data_path, file_name, path_category,  bucket, path_in_bucket):\n",
    "    return client.upload_file(data_path + path_category + file_name, bucket, path_in_bucket + path_category + file_name)\n",
    "\n"
   ]
  },
  {
   "cell_type": "code",
   "execution_count": 46,
   "metadata": {},
   "outputs": [],
   "source": [
    "data_path = './data/parsed/'\n",
    "bucket = 'lbc-ft-reco'\n",
    "path_in_bucket = '/data/real-estate/'"
   ]
  },
  {
   "cell_type": "code",
   "execution_count": 47,
   "metadata": {},
   "outputs": [],
   "source": [
    "def parse_and_upload(file):\n",
    "    file_name = file.replace(data_path, \"\").split(\"/\")[-1]\n",
    "    path_category = file.replace(data_path, \"\").replace(file_name, \"\")\n",
    "    res  = upload_image(data_path=data_path,file_name=file_name,path_category=path_category, bucket=bucket, path_in_bucket=path_in_bucket )\n",
    "    return res"
   ]
  },
  {
   "cell_type": "code",
   "execution_count": 48,
   "metadata": {},
   "outputs": [],
   "source": [
    "import multiprocessing"
   ]
  },
  {
   "cell_type": "code",
   "execution_count": 49,
   "metadata": {},
   "outputs": [],
   "source": [
    "pool = multiprocessing.Pool(10)\n",
    "_= pool.map(parse_and_upload, files)    "
   ]
  },
  {
   "cell_type": "code",
   "execution_count": null,
   "metadata": {},
   "outputs": [],
   "source": []
  }
 ],
 "metadata": {
  "kernelspec": {
   "display_name": "Python 3",
   "language": "python",
   "name": "python3"
  },
  "language_info": {
   "codemirror_mode": {
    "name": "ipython",
    "version": 3
   },
   "file_extension": ".py",
   "mimetype": "text/x-python",
   "name": "python",
   "nbconvert_exporter": "python",
   "pygments_lexer": "ipython3",
   "version": "3.6.5"
  }
 },
 "nbformat": 4,
 "nbformat_minor": 2
}
