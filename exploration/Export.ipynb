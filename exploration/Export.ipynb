{
 "cells": [
  {
   "cell_type": "code",
   "execution_count": 1,
   "metadata": {},
   "outputs": [],
   "source": [
    "from __future__ import print_function\n",
    "import argparse\n",
    "import cv2\n",
    "import lmdb\n",
    "import numpy\n",
    "import os\n",
    "import random\n",
    "from os.path import exists, join\n"
   ]
  },
  {
   "cell_type": "code",
   "execution_count": 2,
   "metadata": {},
   "outputs": [],
   "source": [
    "def export_images(db_path, out_dir, category, flat=False, limit=-1):\n",
    "    print('Exporting', db_path, 'to', out_dir)\n",
    "    env = lmdb.open(db_path, map_size=1099511627776,\n",
    "                    max_readers=100, readonly=True)\n",
    "    count = 0\n",
    "    print(out_dir)\n",
    "    with env.begin(write=False) as txn:\n",
    "        cursor = txn.cursor()\n",
    "        for key, val in cursor:\n",
    "            valid_or_train = \"train\" if random.random() <0.7 else \"valid\"\n",
    "            image_out_dir = \"/\".join([out_dir, valid_or_train, category])\n",
    "            if not exists(image_out_dir):\n",
    "                os.makedirs(image_out_dir)\n",
    "            image_out_path = join(image_out_dir, key.decode() + '.webp')\n",
    "            with open(image_out_path, 'wb') as fp:\n",
    "                fp.write(val)\n",
    "            count += 1\n",
    "            if count == limit:\n",
    "                break\n",
    "            if count % 10000 == 0:\n",
    "                print('Finished', count, 'images')"
   ]
  },
  {
   "cell_type": "code",
   "execution_count": 4,
   "metadata": {},
   "outputs": [
    {
     "name": "stdout",
     "output_type": "stream",
     "text": [
      "Exporting data/raw/bedroom_train_lmdb/ to data/parsed/\n",
      "data/parsed/\n",
      "Finished 10000 images\n",
      "Finished 20000 images\n",
      "Finished 30000 images\n",
      "Finished 40000 images\n",
      "Finished 50000 images\n",
      "Finished 60000 images\n",
      "Finished 70000 images\n",
      "Finished 80000 images\n",
      "Finished 90000 images\n",
      "Exporting data/raw/living_room_train_lmdb/ to data/parsed\n",
      "data/parsed\n",
      "Finished 10000 images\n",
      "Finished 20000 images\n",
      "Finished 30000 images\n",
      "Finished 40000 images\n",
      "Finished 50000 images\n",
      "Finished 60000 images\n",
      "Finished 70000 images\n",
      "Finished 80000 images\n",
      "Finished 90000 images\n",
      "Exporting data/raw/dining_room_train_lmdb/ to data/parsed/\n",
      "data/parsed/\n",
      "Finished 10000 images\n",
      "Finished 20000 images\n",
      "Finished 30000 images\n",
      "Finished 40000 images\n",
      "Finished 50000 images\n",
      "Finished 60000 images\n",
      "Finished 70000 images\n",
      "Finished 80000 images\n",
      "Finished 90000 images\n",
      "Exporting data/raw/kitchen_train_lmdb/ to data/parsed/\n",
      "data/parsed/\n",
      "Finished 10000 images\n",
      "Finished 20000 images\n",
      "Finished 30000 images\n",
      "Finished 40000 images\n",
      "Finished 50000 images\n",
      "Finished 60000 images\n",
      "Finished 70000 images\n",
      "Finished 80000 images\n",
      "Finished 90000 images\n",
      "Exporting data/raw/church_outdoor_train_lmdb/ to data/parsed/\n",
      "data/parsed/\n",
      "Finished 10000 images\n",
      "Finished 20000 images\n",
      "Finished 30000 images\n",
      "Finished 40000 images\n",
      "Finished 50000 images\n",
      "Finished 60000 images\n",
      "Finished 70000 images\n",
      "Finished 80000 images\n",
      "Finished 90000 images\n"
     ]
    }
   ],
   "source": [
    "export_images(\"data/raw/bedroom_train_lmdb/\", \"data/parsed/\", \"bed_room\", limit=100000)\n",
    "export_images(\"data/raw/living_room_train_lmdb/\", \"data/parsed\", \"living_room\", limit=100000)\n",
    "export_images(\"data/raw/dining_room_train_lmdb/\", \"data/parsed/\", \"dining_room\", limit=100000)\n",
    "export_images(\"data/raw/kitchen_train_lmdb/\", \"data/parsed/\", \"kitchen\", limit=100000)\n",
    "export_images(\"data/raw/church_outdoor_train_lmdb/\", \"data/parsed/\", \"outdoor\", limit=100000)"
   ]
  },
  {
   "cell_type": "code",
   "execution_count": null,
   "metadata": {},
   "outputs": [],
   "source": []
  }
 ],
 "metadata": {
  "kernelspec": {
   "display_name": "Python 3",
   "language": "python",
   "name": "python3"
  },
  "language_info": {
   "codemirror_mode": {
    "name": "ipython",
    "version": 3
   },
   "file_extension": ".py",
   "mimetype": "text/x-python",
   "name": "python",
   "nbconvert_exporter": "python",
   "pygments_lexer": "ipython3",
   "version": "3.6.7"
  },
  "varInspector": {
   "cols": {
    "lenName": 16,
    "lenType": 16,
    "lenVar": 40
   },
   "kernels_config": {
    "python": {
     "delete_cmd_postfix": "",
     "delete_cmd_prefix": "del ",
     "library": "var_list.py",
     "varRefreshCmd": "print(var_dic_list())"
    },
    "r": {
     "delete_cmd_postfix": ") ",
     "delete_cmd_prefix": "rm(",
     "library": "var_list.r",
     "varRefreshCmd": "cat(var_dic_list()) "
    }
   },
   "types_to_exclude": [
    "module",
    "function",
    "builtin_function_or_method",
    "instance",
    "_Feature"
   ],
   "window_display": false
  }
 },
 "nbformat": 4,
 "nbformat_minor": 2
}
